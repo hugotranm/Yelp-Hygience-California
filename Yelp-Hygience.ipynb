{
 "cells": [
  {
   "cell_type": "code",
   "execution_count": null,
   "metadata": {
    "collapsed": true
   },
   "outputs": [],
   "source": [
    "from IPython.display import HTML\n",
    "from IPython.display import Image\n",
    "import numpy as np\n",
    "import requests\n",
    "import bs4 \n",
    "import time\n",
    "import operator\n",
    "import socket\n",
    "import re # regular expressions\n",
    "import random\n",
    "\n",
    "from pandas import Series\n",
    "import pandas as pd\n",
    "from pandas import DataFrame\n",
    "\n",
    "import matplotlib\n",
    "import matplotlib.pyplot as plt\n",
    "#%matplotlib inline\n",
    "\n",
    "import seaborn as sns\n",
    "sns.set_context(\"talk\")\n",
    "sns.set_style(\"white\")\n",
    "\n",
    "import csv\n",
    "import numpy as np\n",
    "import pandas as pd\n",
    "\n",
    "import matplotlib\n",
    "import matplotlib.pyplot as plt\n",
    "\n",
    "\n",
    "\n"
   ]
  },
  {
   "cell_type": "code",
   "execution_count": null,
   "metadata": {
    "collapsed": true
   },
   "outputs": [],
   "source": [
    "## Code to get links\n",
    "def get_app_links():\n",
    "    app_links = []\n",
    "    for i in range(2): #do range(num_pages) if you want them all, here we just need two pages as each page displays 50 resumes\n",
    "        url = 'https://www.yelp.com/search?find_desc=Restaurants&find_loc=San+Francisco,+CA&start=' + str(i*10) #base url + appending the url of each page\n",
    "        source = requests.get(url) #reads the data from this url using urllib library\n",
    "    \n",
    "        yelp = bs4.BeautifulSoup(source.text, 'html.parser') # Get the HTML code of the Page\n",
    "  \n",
    "    # FIND ALL Restaurants\n",
    "    \n",
    "        for link in yelp.findAll('a', {'class': 'biz-name js-analytics-click'}):\n",
    "            try:\n",
    "                app_links.append(link['href'])\n",
    "    \n",
    "    \n",
    "            except KeyError:\n",
    "                pass\n",
    "    \n",
    "    print(\"Total number of resume links scraped: {}\".format(len(app_links)))\n",
    "    return app_links\n",
    "\n",
    "app_links = get_app_links()    \n",
    "data_yelp = []"
   ]
  },
  {
   "cell_type": "code",
   "execution_count": null,
   "metadata": {
    "collapsed": true
   },
   "outputs": [],
   "source": [
    "url_base = 'https://www.yelp.com/biz/fog-harbor-fish-house-san-francisco-2?frvs=True&osq=Restaurants'\n",
    "source_restaurant = requests.get(url_base, timeout = 5)\n",
    "restaurant = bs4.BeautifulSoup(source_restaurant.text, 'lxml')\n"
   ]
  },
  {
   "cell_type": "code",
   "execution_count": null,
   "metadata": {
    "collapsed": true
   },
   "outputs": [],
   "source": [
    "details = []\n",
    "details.append(restaurant.find('h1', {'class': 'biz-page-title embossed-text-white'}).text.strip()) # Append name\n",
    "details.append(restaurant.find('span',{'class': 'neighborhood-str-list'}).string.strip()) #Append Price $$\n",
    "details.append(restaurant.find('strong', {'class': 'street-address'}).text.strip()) #Append Price $$\n",
    "details.append(restaurant.find('div',{'class': 'i-stars'})['title']) #Append Stars Rating\n",
    "details.append(restaurant.find('span',{'class': 'review-count rating-qualifier'}).string[13:17]) #Append Stars Rating\n",
    "details.append(restaurant.find('span',{'class': 'business-attribute price-range'}).string) #Append Price $$\n",
    "details.append(restaurant.find('dd',{'class': 'nowrap price-description'}).string.strip()) #Append Price $$\n",
    "details.append(restaurant.find('span',{'class': 'category-str-list'}).text.strip()) #Append Price $$\n",
    "details.append(restaurant.find('div',{'class': 'score-block'}).string.strip()) #Append Stars Rating\n",
    "details.append(restaurant.find('dt',{'class': 'attribute-key'}).text.strip()) #Append Stars Rating\n",
    "print(details)\n",
    "restaurant.find('div',{'class': 'short-def-list'} and 'dt')"
   ]
  }
 ],
 "metadata": {
  "kernelspec": {
   "display_name": "Python 3",
   "language": "python",
   "name": "python3"
  },
  "language_info": {
   "codemirror_mode": {
    "name": "ipython",
    "version": 3
   },
   "file_extension": ".py",
   "mimetype": "text/x-python",
   "name": "python",
   "nbconvert_exporter": "python",
   "pygments_lexer": "ipython3",
   "version": "3.6.1"
  }
 },
 "nbformat": 4,
 "nbformat_minor": 2
}
